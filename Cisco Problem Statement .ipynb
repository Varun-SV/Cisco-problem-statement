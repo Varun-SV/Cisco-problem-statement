{
  "nbformat": 4,
  "nbformat_minor": 0,
  "metadata": {
    "colab": {
      "name": "Cisco Problem Statement .ipynb",
      "provenance": [],
      "authorship_tag": "ABX9TyOc2TOLd02coiblr3YCkpKp"
    },
    "kernelspec": {
      "name": "python3",
      "display_name": "Python 3"
    },
    "language_info": {
      "name": "python"
    }
  },
  "cells": [
    {
      "cell_type": "code",
      "execution_count": 1,
      "metadata": {
        "id": "fcaHZ5hlMb9D"
      },
      "outputs": [],
      "source": [
        "import ipaddress## LIBRARY USED TO CHECK IF AN IP IS IPv4 OR IPv6 OR IS IT AN VALID IP OR NOT!"
      ]
    },
    {
      "cell_type": "code",
      "source": [
        "##TO CHECK IF THE PASSED IP IS AN VALID IPv4 OR NOT!!!\n",
        "def valid(n):\n",
        "  res = []\n",
        "  try:\n",
        "    ipaddress.ip_address(n)                         #RETURNS VALIDITY OF THE IP\n",
        "    ip = n.split(\".\")                               #SPLITS '1.2.3.4' AS [1,2,3,4]\n",
        "    res.append([int(x) for x in ip])                #STORING IPS IN AN ARRAY\n",
        "    res.append([format(int(x),'b') for x in ip])    #CONVERTING EACH NUMBER INTO BINARY\n",
        "    res.append([format(int(x),'o') for x in ip])    #CONVERTING EACH NUMBER INTO OCTAL\n",
        "    res.append([format(int(x),'x') for x in ip])    #CONVERTING EACH NUMBER INTO HEXADECIMAL\n",
        "    for i in range(len(res)):                       #LOOPING AROUND EACH SPLITS OF LIST OF CONVERTED IP\n",
        "      for j in range(len(res[i])):                  #TO JOIN AND FORM INTO A COMPLETE (eg. [1,2,3,4] => 1.2.3.4)\n",
        "        res[i][j]=str(res[i][j])\n",
        "    res = ['.'.join(x) for x in res]\n",
        "    # print(res)                                    #UNCOMMENT THESE STATEMENTS TO FUNCTION SEE IN ACTION\n",
        "    return res                                      #RETURNS '1.2.3.4' (EXAMPLE)\n",
        "  except:\n",
        "    res.append(\"Ip is not valid!\")                  #IF THE *IP.SPLIT()* OR *IP.IP_ADDRESS(N)* FAILS THEN THE STATEMENT UNDER EXCEPT WILL BE EXECUTED\n",
        "    # print(res)                                    #UNCOMMENT THESE STATEMENTS TO SEE FUNCTION IN ACTION\n",
        "    return res                                      #FINAL OUTPUT WILL BE RETURNED OUT"
      ],
      "metadata": {
        "id": "6r0U81VMQk99"
      },
      "execution_count": 3,
      "outputs": []
    },
    {
      "cell_type": "code",
      "source": [
        "##MAIN FUNCTION TO TAKE IP'S AS INPUT AND STORE THE RESULT AND RETREIVE IT BACK FROM THE FILE SYSTEM\n",
        "def store():\n",
        "  a = ['first','second','third','fourth','fifth','sixth','seventh','eighth','nineth','tenth']\n",
        "  print(\"enter the 10 ip address : \")               #INPUTTING THE 10 IP ADDRESS\n",
        "  res = []\n",
        "  for i in range(10):                               #CHANGE 10 TO YOUR FAVOURITE NUMBER TO MAKE THE PROGRAM TAKE ANY NUMBER OF IP'S\n",
        "    ip = input()                                    #INPUTTING THE IP ADDRESS\n",
        "    res.append(valid(ip))     \n",
        "  f = open('Conversion.txt','w')                    #OPENING THE FILE NAMED 'Conversion.txt'\n",
        "  for i in res:\n",
        "    f.write(str(i))                                 #TRY PRINTING OUT THE I!!!\n",
        "    f.write('\\n')                                   #MAKES IT EASIER TO SEPARATE OUT THE ANSWERS\n",
        "  f.close                                           #CLOSES ENSURES THE FILE IS WRITTEN AND THE OUTPUT IS STORED IN THE FILE\n",
        "  f = open(\"Conversion.txt\",'r')                    #OPEN THE FILE TO READ OUT THOSE ANSWERS TO PRINT OUT THE ANSWERS\n",
        "  s = f.read()                                      #S WILL ALSO HAVE '\\n' IN IT AND HENCE WE CAN USE IT TO SEPARATE THE ANSWERS AS IN THE NEXT LINE\n",
        "  k = s.split(\"\\n\")                                 \n",
        "  for i in range(len(k)-1):                         #THIS WILL PRINT THE ANSWER\n",
        "    print(\"The %s IP in Decimal,Binary,Octal and Hexadecimal is : %s\"%(a[i],k[i]))    "
      ],
      "metadata": {
        "id": "QG2Wm0VxTilD"
      },
      "execution_count": 5,
      "outputs": []
    },
    {
      "cell_type": "code",
      "source": [
        "store()                                            #THIS IS THE MAIN FUNCTION CALL"
      ],
      "metadata": {
        "colab": {
          "base_uri": "https://localhost:8080/"
        },
        "id": "IXnL7vWzUmxM",
        "outputId": "2eadfc94-66ff-40c0-edfd-f195818aff12"
      },
      "execution_count": 6,
      "outputs": [
        {
          "output_type": "stream",
          "name": "stdout",
          "text": [
            "enter the 10 ip address : \n",
            "1.2.3.4\n",
            "0.0.0.0\n",
            "255.255.255.255\n",
            "23.34.45.56\n",
            "98.87.76.65\n",
            "234.233.235.255\n",
            "192.168.101.222\n",
            "101.202.65.56\n",
            "199.200.201.202\n",
            "202.102.2.0\n",
            "The first IP in Decimal,Binary,Octal and Hexadecimal is : ['1.2.3.4', '1.10.11.100', '1.2.3.4', '1.2.3.4']\n",
            "The second IP in Decimal,Binary,Octal and Hexadecimal is : ['0.0.0.0', '0.0.0.0', '0.0.0.0', '0.0.0.0']\n",
            "The third IP in Decimal,Binary,Octal and Hexadecimal is : ['255.255.255.255', '11111111.11111111.11111111.11111111', '377.377.377.377', 'ff.ff.ff.ff']\n",
            "The fourth IP in Decimal,Binary,Octal and Hexadecimal is : ['23.34.45.56', '10111.100010.101101.111000', '27.42.55.70', '17.22.2d.38']\n",
            "The fifth IP in Decimal,Binary,Octal and Hexadecimal is : ['98.87.76.65', '1100010.1010111.1001100.1000001', '142.127.114.101', '62.57.4c.41']\n",
            "The sixth IP in Decimal,Binary,Octal and Hexadecimal is : ['234.233.235.255', '11101010.11101001.11101011.11111111', '352.351.353.377', 'ea.e9.eb.ff']\n",
            "The seventh IP in Decimal,Binary,Octal and Hexadecimal is : ['192.168.101.222', '11000000.10101000.1100101.11011110', '300.250.145.336', 'c0.a8.65.de']\n",
            "The eighth IP in Decimal,Binary,Octal and Hexadecimal is : ['101.202.65.56', '1100101.11001010.1000001.111000', '145.312.101.70', '65.ca.41.38']\n",
            "The nineth IP in Decimal,Binary,Octal and Hexadecimal is : ['199.200.201.202', '11000111.11001000.11001001.11001010', '307.310.311.312', 'c7.c8.c9.ca']\n",
            "The tenth IP in Decimal,Binary,Octal and Hexadecimal is : ['202.102.2.0', '11001010.1100110.10.0', '312.146.2.0', 'ca.66.2.0']\n"
          ]
        }
      ]
    }
  ]
}